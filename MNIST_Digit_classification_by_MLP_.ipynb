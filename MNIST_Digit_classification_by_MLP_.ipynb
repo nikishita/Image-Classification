{
  "cells": [
    {
      "cell_type": "markdown",
      "metadata": {
        "id": "bcmj3GrmF16a"
      },
      "source": [
        "# Load the MNIST Dataset"
      ]
    },
    {
      "cell_type": "code",
      "execution_count": 1,
      "metadata": {
        "colab": {
          "base_uri": "https://localhost:8080/"
        },
        "id": "stzWMd-zFl0k",
        "outputId": "ebd09a00-07c9-442f-d16c-243db48fe5e4"
      },
      "outputs": [
        {
          "name": "stdout",
          "output_type": "stream",
          "text": [
            "2.7.0\n"
          ]
        }
      ],
      "source": [
        "import tensorflow as tf\n",
        "print(tf.__version__)"
      ]
    },
    {
      "cell_type": "code",
      "execution_count": 2,
      "metadata": {
        "id": "l3rJAQQbGMym"
      },
      "outputs": [],
      "source": [
        "mnist = tf.keras.datasets.mnist\n",
        "#from keras.datasets import mnist #loading the MNIST dataset\n",
        "import matplotlib.pyplot as plt"
      ]
    },
    {
      "cell_type": "markdown",
      "metadata": {
        "id": "zsChd8R7HmJB"
      },
      "source": [
        "** Plot the sample image**\n",
        "\n",
        "\n",
        "\n"
      ]
    },
    {
      "cell_type": "code",
      "execution_count": 3,
      "metadata": {
        "colab": {
          "base_uri": "https://localhost:8080/"
        },
        "id": "BlyweryiHlsK",
        "outputId": "253cabc9-c4cc-46bc-c6b4-17ff36933281"
      },
      "outputs": [
        {
          "name": "stdout",
          "output_type": "stream",
          "text": [
            "Downloading data from https://storage.googleapis.com/tensorflow/tf-keras-datasets/mnist.npz\n",
            "11493376/11490434 [==============================] - 0s 0us/step\n",
            "11501568/11490434 [==============================] - 0s 0us/step\n"
          ]
        }
      ],
      "source": [
        "MNIST_Image_data = mnist.load_data()"
      ]
    },
    {
      "cell_type": "code",
      "execution_count": 4,
      "metadata": {
        "id": "v7XkHMAMKpy8"
      },
      "outputs": [],
      "source": [
        "(x_train, y_train),(x_test,y_test)= MNIST_Image_data"
      ]
    },
    {
      "cell_type": "code",
      "execution_count": 5,
      "metadata": {
        "colab": {
          "base_uri": "https://localhost:8080/"
        },
        "id": "UeB03DKXKoL7",
        "outputId": "831a197a-d6e4-41be-ec71-e8db8c5ffcbb"
      },
      "outputs": [
        {
          "data": {
            "text/plain": [
              "((60000, 28, 28), (60000,), (10000, 28, 28), (10000,))"
            ]
          },
          "execution_count": 5,
          "metadata": {},
          "output_type": "execute_result"
        }
      ],
      "source": [
        "x_train.shape, y_train.shape, x_test.shape, y_test.shape"
      ]
    },
    {
      "cell_type": "code",
      "execution_count": 8,
      "metadata": {
        "colab": {
          "base_uri": "https://localhost:8080/",
          "height": 282
        },
        "id": "8fA2rOuRLNUz",
        "outputId": "91a99db5-8885-40e4-806f-cd725784d010"
      },
      "outputs": [
        {
          "data": {
            "text/plain": [
              "<matplotlib.image.AxesImage at 0x7f6ad3c19e50>"
            ]
          },
          "execution_count": 8,
          "metadata": {},
          "output_type": "execute_result"
        },
        {
          "data": {
            "image/png": "[encoded data removed]",
            "text/plain": [
              "<Figure size 432x288 with 1 Axes>"
            ]
          },
          "metadata": {
            "needs_background": "light"
          },
          "output_type": "display_data"
        }
      ],
      "source": [
        "plt.imshow(x_train[10], cmap= plt.get_cmap('gray'))"
      ]
    },
    {
      "cell_type": "markdown",
      "metadata": {
        "id": "BmP7G0AOMUWG"
      },
      "source": [
        "### Model building using Multi-Layer Perceptron using MNIST Dataset."
      ]
    },
    {
      "cell_type": "markdown",
      "metadata": {
        "id": "VgWReUQGMl30"
      },
      "source": [
        "**Import the required libraries**"
      ]
    },
    {
      "cell_type": "code",
      "execution_count": 9,
      "metadata": {
        "id": "QZHcNSUAMgSF"
      },
      "outputs": [],
      "source": [
        "import numpy as np\n",
        "from keras.models import Sequential\n",
        "from keras.layers import Dense\n",
        "from keras.utils import np_utils"
      ]
    },
    {
      "cell_type": "code",
      "execution_count": 10,
      "metadata": {
        "colab": {
          "base_uri": "https://localhost:8080/"
        },
        "id": "SoeZdo6eRG4h",
        "outputId": "0570c950-bcdf-4d7a-890c-bbbec22bcf1d"
      },
      "outputs": [
        {
          "data": {
            "text/plain": [
              "(60000, 28, 28)"
            ]
          },
          "execution_count": 10,
          "metadata": {},
          "output_type": "execute_result"
        }
      ],
      "source": [
        "x_train.shape[0], x_train.shape[1], x_train.shape[2]"
      ]
    },
    {
      "cell_type": "markdown",
      "metadata": {
        "id": "ZQnyUNvGHILo"
      },
      "source": [
        "# Reshaping the data\n",
        " "
      ]
    },
    {
      "cell_type": "code",
      "execution_count": 12,
      "metadata": {
        "id": "7V7eScbeQ7lm"
      },
      "outputs": [],
      "source": [
        "\n",
        "number_pix = x_train.shape[1] * x_train.shape[2] # 28 * 28 = 784 pixels\n",
        "\n"
      ]
    },
    {
      "cell_type": "code",
      "execution_count": 14,
      "metadata": {
        "id": "o-sjJTrmRpFT"
      },
      "outputs": [],
      "source": [
        "X_train = x_train.reshape(x_train.shape[0], number_pix).astype('float32')\n",
        "X_test = x_test.reshape(x_test.shape[0], number_pix).astype('float32')"
      ]
    },
    {
      "cell_type": "code",
      "execution_count": 15,
      "metadata": {
        "colab": {
          "base_uri": "https://localhost:8080/"
        },
        "id": "sQYRQ2KzR3LX",
        "outputId": "82ae338e-29c1-4a62-8568-d47ab10fdf0b"
      },
      "outputs": [
        {
          "data": {
            "text/plain": [
              "((60000, 784), dtype('float32'), (10000, 784), dtype('float32'))"
            ]
          },
          "execution_count": 15,
          "metadata": {},
          "output_type": "execute_result"
        }
      ],
      "source": [
        "X_train.shape, X_train.dtype, X_test.shape, X_test.dtype"
      ]
    },
    {
      "cell_type": "markdown",
      "metadata": {
        "id": "xU_jR0__UGyH"
      },
      "source": [
        "# Normalize the data"
      ]
    },
    {
      "cell_type": "code",
      "execution_count": 16,
      "metadata": {
        "id": "o3KNHlhETXNs"
      },
      "outputs": [],
      "source": [
        "X_train = X_train / 255  # Scaling values from (0,255) -> (0,1)\n",
        "X_test = X_test / 255   # Scaling values from (0,255) -> (0,1)"
      ]
    },
    {
      "cell_type": "markdown",
      "metadata": {
        "id": "e4Gj_PKHUjQq"
      },
      "source": [
        "# One-hot encoding for labels"
      ]
    },
    {
      "cell_type": "code",
      "execution_count": 19,
      "metadata": {
        "colab": {
          "base_uri": "https://localhost:8080/"
        },
        "id": "2HaCjsQeHhyl",
        "outputId": "e35b4b9b-e7a3-4c37-962c-ae6358f0aae5"
      },
      "outputs": [
        {
          "name": "stdout",
          "output_type": "stream",
          "text": [
            "Shape before one-hot encoding:  (60000,)\n",
            "Shape after one-hot encoding:  (60000, 10)\n"
          ]
        }
      ],
      "source": [
        "n_classes = 10\n",
        "print(\"Shape before one-hot encoding: \", y_train.shape)\n",
        "Y_train = np_utils.to_categorical(y_train,n_classes)\n",
        "Y_test = np_utils.to_categorical(y_test, n_classes)\n",
        "print(\"Shape after one-hot encoding: \", Y_train.shape)"
      ]
    },
    {
      "cell_type": "markdown",
      "metadata": {
        "id": "H1qRkNqBaijx"
      },
      "source": [
        "# Build the MLP model"
      ]
    },
    {
      "cell_type": "code",
      "execution_count": 31,
      "metadata": {
        "id": "cFmJTd5Haqoc"
      },
      "outputs": [],
      "source": [
        "model = Sequential()\n",
        "model.add(Dense(number_pix, input_shape=(number_pix,), activation='relu'))\n",
        "model.add(Dense(n_classes, activation='softmax'))"
      ]
    },
    {
      "cell_type": "code",
      "execution_count": 32,
      "metadata": {
        "colab": {
          "base_uri": "https://localhost:8080/"
        },
        "id": "3VuhJmuDILFb",
        "outputId": "514dfce8-cc34-497b-ade9-6741c8996d76"
      },
      "outputs": [
        {
          "name": "stdout",
          "output_type": "stream",
          "text": [
            "Model: \"sequential_3\"\n",
            "_________________________________________________________________\n",
            " Layer (type)                Output Shape              Param #   \n",
            "=================================================================\n",
            " dense_6 (Dense)             (None, 784)               615440    \n",
            "                                                                 \n",
            " dense_7 (Dense)             (None, 10)                7850      \n",
            "                                                                 \n",
            "=================================================================\n",
            "Total params: 623,290\n",
            "Trainable params: 623,290\n",
            "Non-trainable params: 0\n",
            "_________________________________________________________________\n"
          ]
        }
      ],
      "source": [
        "model.summary()"
      ]
    },
    {
      "cell_type": "code",
      "execution_count": 33,
      "metadata": {
        "id": "Y6GSO8WzKR3h"
      },
      "outputs": [],
      "source": [
        "# Compile the midel\n",
        "model.compile(loss='categorical_crossentropy', metrics=['accuracy'], optimizer='adam')"
      ]
    },
    {
      "cell_type": "markdown",
      "metadata": {
        "id": "JIrXFeTwceSQ"
      },
      "source": [
        "# Run the MLP model"
      ]
    },
    {
      "cell_type": "code",
      "execution_count": 35,
      "metadata": {
        "colab": {
          "base_uri": "https://localhost:8080/"
        },
        "id": "usWP6trjcigL",
        "outputId": "ba5b16a2-2299-4b48-ea83-893832535ed4"
      },
      "outputs": [
        {
          "name": "stdout",
          "output_type": "stream",
          "text": [
            "Epoch 1/10\n",
            "300/300 - 5s - loss: 0.2788 - accuracy: 0.9215 - val_loss: 0.1469 - val_accuracy: 0.9574 - 5s/epoch - 16ms/step\n",
            "Epoch 2/10\n",
            "300/300 - 4s - loss: 0.1106 - accuracy: 0.9686 - val_loss: 0.0982 - val_accuracy: 0.9704 - 4s/epoch - 14ms/step\n",
            "Epoch 3/10\n",
            "300/300 - 4s - loss: 0.0714 - accuracy: 0.9793 - val_loss: 0.0782 - val_accuracy: 0.9765 - 4s/epoch - 14ms/step\n",
            "Epoch 4/10\n",
            "300/300 - 4s - loss: 0.0498 - accuracy: 0.9857 - val_loss: 0.0695 - val_accuracy: 0.9797 - 4s/epoch - 14ms/step\n",
            "Epoch 5/10\n",
            "300/300 - 4s - loss: 0.0370 - accuracy: 0.9897 - val_loss: 0.0596 - val_accuracy: 0.9824 - 4s/epoch - 14ms/step\n",
            "Epoch 6/10\n",
            "300/300 - 4s - loss: 0.0260 - accuracy: 0.9930 - val_loss: 0.0605 - val_accuracy: 0.9807 - 4s/epoch - 13ms/step\n",
            "Epoch 7/10\n",
            "300/300 - 4s - loss: 0.0209 - accuracy: 0.9946 - val_loss: 0.0632 - val_accuracy: 0.9802 - 4s/epoch - 14ms/step\n",
            "Epoch 8/10\n",
            "300/300 - 4s - loss: 0.0174 - accuracy: 0.9957 - val_loss: 0.0572 - val_accuracy: 0.9815 - 4s/epoch - 14ms/step\n",
            "Epoch 9/10\n",
            "300/300 - 4s - loss: 0.0116 - accuracy: 0.9975 - val_loss: 0.0599 - val_accuracy: 0.9823 - 4s/epoch - 14ms/step\n",
            "Epoch 10/10\n",
            "300/300 - 4s - loss: 0.0087 - accuracy: 0.9984 - val_loss: 0.0629 - val_accuracy: 0.9816 - 4s/epoch - 14ms/step\n",
            "The error is: 1.84%\n"
          ]
        }
      ],
      "source": [
        "model.fit(X_train, Y_train, validation_data=(X_test, Y_test), epochs =10, batch_size = 200, verbose=2)\n",
        "score = model.evaluate(X_test,Y_test, verbose=0)\n",
        "print('The error is: %.2f%%'%(100-score[1]*100))"
      ]
    },
    {
      "cell_type": "markdown",
      "metadata": {
        "id": "o9Pu8aM6Q4sD"
      },
      "source": [
        "# Summary\n",
        "\n",
        "* With the MLP, we got error rate is of 1.84%. Means the accuract is about 99.84%.\n",
        "* Lets see what will be the accuracy of MNIST digit classification by using CNN. [Chick here](https://github.com/ajju198821/Deep-Learning-Work/blob/main/MNIST_digit_classigication_by_CNN.ipynb) to look at it."
      ]
    }
  ],
  "metadata": {
    "colab": {
      "name": "MNIST Digit classification by MLP .ipynb",
      "provenance": []
    },
    "kernelspec": {
      "display_name": "Python 3",
      "name": "python3"
    },
    "language_info": {
      "name": "python"
    }
  },
  "nbformat": 4,
  "nbformat_minor": 0
}
